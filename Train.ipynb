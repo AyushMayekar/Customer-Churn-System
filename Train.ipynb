{
 "cells": [
  {
   "cell_type": "code",
   "execution_count": 2,
   "id": "2d9c8e78-cc25-4745-a644-732a94cbb1d5",
   "metadata": {},
   "outputs": [],
   "source": [
    "import pandas as pd\n",
    "import numpy as np\n",
    "import seaborn as sns\n",
    "import matplotlib.pyplot as plt "
   ]
  },
  {
   "cell_type": "code",
   "execution_count": 3,
   "id": "7b6683c3-c973-4b19-a682-5b71712e086e",
   "metadata": {},
   "outputs": [],
   "source": [
    "# Defining the path to raw data\n",
    "file_path = r\"C:\\Users\\ayush\\Desktop\\vs\\Customer_churn\\WA_Fn-UseC_-Telco-Customer-Churn.csv\""
   ]
  },
  {
   "cell_type": "code",
   "execution_count": 4,
   "id": "a24f38a4-8308-428f-87b4-eccf546a4ba7",
   "metadata": {},
   "outputs": [],
   "source": [
    "# Generating a dataframe\n",
    "df = pd.read_csv(file_path)"
   ]
  },
  {
   "cell_type": "code",
   "execution_count": 5,
   "id": "991c8da1-bc02-4daa-be46-d8048377be63",
   "metadata": {},
   "outputs": [
    {
     "name": "stdout",
     "output_type": "stream",
     "text": [
      "<bound method NDFrame.head of       customerID  gender  SeniorCitizen Partner Dependents  tenure  \\\n",
      "0     7590-VHVEG  Female              0     Yes         No       1   \n",
      "1     5575-GNVDE    Male              0      No         No      34   \n",
      "2     3668-QPYBK    Male              0      No         No       2   \n",
      "3     7795-CFOCW    Male              0      No         No      45   \n",
      "4     9237-HQITU  Female              0      No         No       2   \n",
      "...          ...     ...            ...     ...        ...     ...   \n",
      "7038  6840-RESVB    Male              0     Yes        Yes      24   \n",
      "7039  2234-XADUH  Female              0     Yes        Yes      72   \n",
      "7040  4801-JZAZL  Female              0     Yes        Yes      11   \n",
      "7041  8361-LTMKD    Male              1     Yes         No       4   \n",
      "7042  3186-AJIEK    Male              0      No         No      66   \n",
      "\n",
      "     PhoneService     MultipleLines InternetService OnlineSecurity  ...  \\\n",
      "0              No  No phone service             DSL             No  ...   \n",
      "1             Yes                No             DSL            Yes  ...   \n",
      "2             Yes                No             DSL            Yes  ...   \n",
      "3              No  No phone service             DSL            Yes  ...   \n",
      "4             Yes                No     Fiber optic             No  ...   \n",
      "...           ...               ...             ...            ...  ...   \n",
      "7038          Yes               Yes             DSL            Yes  ...   \n",
      "7039          Yes               Yes     Fiber optic             No  ...   \n",
      "7040           No  No phone service             DSL            Yes  ...   \n",
      "7041          Yes               Yes     Fiber optic             No  ...   \n",
      "7042          Yes                No     Fiber optic            Yes  ...   \n",
      "\n",
      "     DeviceProtection TechSupport StreamingTV StreamingMovies        Contract  \\\n",
      "0                  No          No          No              No  Month-to-month   \n",
      "1                 Yes          No          No              No        One year   \n",
      "2                  No          No          No              No  Month-to-month   \n",
      "3                 Yes         Yes          No              No        One year   \n",
      "4                  No          No          No              No  Month-to-month   \n",
      "...               ...         ...         ...             ...             ...   \n",
      "7038              Yes         Yes         Yes             Yes        One year   \n",
      "7039              Yes          No         Yes             Yes        One year   \n",
      "7040               No          No          No              No  Month-to-month   \n",
      "7041               No          No          No              No  Month-to-month   \n",
      "7042              Yes         Yes         Yes             Yes        Two year   \n",
      "\n",
      "     PaperlessBilling              PaymentMethod MonthlyCharges  TotalCharges  \\\n",
      "0                 Yes           Electronic check          29.85         29.85   \n",
      "1                  No               Mailed check          56.95        1889.5   \n",
      "2                 Yes               Mailed check          53.85        108.15   \n",
      "3                  No  Bank transfer (automatic)          42.30       1840.75   \n",
      "4                 Yes           Electronic check          70.70        151.65   \n",
      "...               ...                        ...            ...           ...   \n",
      "7038              Yes               Mailed check          84.80        1990.5   \n",
      "7039              Yes    Credit card (automatic)         103.20        7362.9   \n",
      "7040              Yes           Electronic check          29.60        346.45   \n",
      "7041              Yes               Mailed check          74.40         306.6   \n",
      "7042              Yes  Bank transfer (automatic)         105.65        6844.5   \n",
      "\n",
      "     Churn  \n",
      "0       No  \n",
      "1       No  \n",
      "2      Yes  \n",
      "3       No  \n",
      "4      Yes  \n",
      "...    ...  \n",
      "7038    No  \n",
      "7039    No  \n",
      "7040    No  \n",
      "7041   Yes  \n",
      "7042    No  \n",
      "\n",
      "[7043 rows x 21 columns]>\n"
     ]
    }
   ],
   "source": [
    "# Taking a look at the data\n",
    "df.head(5)"
   ]
  },
  {
   "cell_type": "code",
   "execution_count": 6,
   "id": "72ffd89e-0c57-4a33-94d7-ecf142268525",
   "metadata": {},
   "outputs": [
    {
     "name": "stdout",
     "output_type": "stream",
     "text": [
      "<class 'pandas.core.frame.DataFrame'>\n",
      "RangeIndex: 7043 entries, 0 to 7042\n",
      "Data columns (total 21 columns):\n",
      " #   Column            Non-Null Count  Dtype  \n",
      "---  ------            --------------  -----  \n",
      " 0   customerID        7043 non-null   object \n",
      " 1   gender            7043 non-null   object \n",
      " 2   SeniorCitizen     7043 non-null   int64  \n",
      " 3   Partner           7043 non-null   object \n",
      " 4   Dependents        7043 non-null   object \n",
      " 5   tenure            7043 non-null   int64  \n",
      " 6   PhoneService      7043 non-null   object \n",
      " 7   MultipleLines     7043 non-null   object \n",
      " 8   InternetService   7043 non-null   object \n",
      " 9   OnlineSecurity    7043 non-null   object \n",
      " 10  OnlineBackup      7043 non-null   object \n",
      " 11  DeviceProtection  7043 non-null   object \n",
      " 12  TechSupport       7043 non-null   object \n",
      " 13  StreamingTV       7043 non-null   object \n",
      " 14  StreamingMovies   7043 non-null   object \n",
      " 15  Contract          7043 non-null   object \n",
      " 16  PaperlessBilling  7043 non-null   object \n",
      " 17  PaymentMethod     7043 non-null   object \n",
      " 18  MonthlyCharges    7043 non-null   float64\n",
      " 19  TotalCharges      7043 non-null   object \n",
      " 20  Churn             7043 non-null   object \n",
      "dtypes: float64(1), int64(2), object(18)\n",
      "memory usage: 1.1+ MB\n",
      "None\n"
     ]
    }
   ],
   "source": [
    "# Understanding the information of the data\n",
    "print(df.info())"
   ]
  },
  {
   "cell_type": "code",
   "execution_count": 7,
   "id": "0b12c421-b1b5-49b0-8b75-67f1de83738f",
   "metadata": {},
   "outputs": [
    {
     "name": "stdout",
     "output_type": "stream",
     "text": [
      "       SeniorCitizen       tenure  MonthlyCharges\n",
      "count    7043.000000  7043.000000     7043.000000\n",
      "mean        0.162147    32.371149       64.761692\n",
      "std         0.368612    24.559481       30.090047\n",
      "min         0.000000     0.000000       18.250000\n",
      "25%         0.000000     9.000000       35.500000\n",
      "50%         0.000000    29.000000       70.350000\n",
      "75%         0.000000    55.000000       89.850000\n",
      "max         1.000000    72.000000      118.750000\n"
     ]
    }
   ],
   "source": [
    "# Understading the analytics of the data\n",
    "print(df.describe())"
   ]
  },
  {
   "cell_type": "code",
   "execution_count": 9,
   "id": "99431080-e4d0-4fae-828d-ea872217018d",
   "metadata": {},
   "outputs": [
    {
     "name": "stdout",
     "output_type": "stream",
     "text": [
      "customerID           object\n",
      "gender               object\n",
      "SeniorCitizen         int64\n",
      "Partner              object\n",
      "Dependents           object\n",
      "tenure                int64\n",
      "PhoneService         object\n",
      "MultipleLines        object\n",
      "InternetService      object\n",
      "OnlineSecurity       object\n",
      "OnlineBackup         object\n",
      "DeviceProtection     object\n",
      "TechSupport          object\n",
      "StreamingTV          object\n",
      "StreamingMovies      object\n",
      "Contract             object\n",
      "PaperlessBilling     object\n",
      "PaymentMethod        object\n",
      "MonthlyCharges      float64\n",
      "TotalCharges         object\n",
      "Churn                object\n",
      "dtype: object\n"
     ]
    }
   ],
   "source": [
    "# Checking for categorical and numerical values\n",
    "print(df.dtypes)"
   ]
  },
  {
   "cell_type": "code",
   "execution_count": 10,
   "id": "2dc15907-45a4-423c-9e60-e41bd88afb14",
   "metadata": {},
   "outputs": [],
   "source": [
    "# Convert 'TotalCharges' column to numeric\n",
    "df['TotalCharges'] = pd.to_numeric(df['TotalCharges'], errors='coerce')\n",
    "mean_total_charges = df['TotalCharges'].mean()\n",
    "df.fillna({'TotalCharges': mean_total_charges}, inplace=True)\n"
   ]
  },
  {
   "cell_type": "code",
   "execution_count": 11,
   "id": "3d09725e-0f64-4dd4-ad09-e580c133a894",
   "metadata": {},
   "outputs": [
    {
     "name": "stdout",
     "output_type": "stream",
     "text": [
      "customerID           object\n",
      "gender               object\n",
      "SeniorCitizen         int64\n",
      "Partner              object\n",
      "Dependents           object\n",
      "tenure                int64\n",
      "PhoneService         object\n",
      "MultipleLines        object\n",
      "InternetService      object\n",
      "OnlineSecurity       object\n",
      "OnlineBackup         object\n",
      "DeviceProtection     object\n",
      "TechSupport          object\n",
      "StreamingTV          object\n",
      "StreamingMovies      object\n",
      "Contract             object\n",
      "PaperlessBilling     object\n",
      "PaymentMethod        object\n",
      "MonthlyCharges      float64\n",
      "TotalCharges        float64\n",
      "Churn                object\n",
      "dtype: object\n"
     ]
    }
   ],
   "source": [
    "print(df.dtypes)"
   ]
  },
  {
   "cell_type": "code",
   "execution_count": 13,
   "id": "a09346a4-1c90-4429-9d66-560f8f1d9807",
   "metadata": {},
   "outputs": [],
   "source": [
    "# Converting categorical columns to numerical using one hot encoding\n",
    "categorical_Columns = ['gender','Partner','Dependents','PhoneService','MultipleLines','InternetService','OnlineSecurity', 'OnlineBackup', 'DeviceProtection','TechSupport','StreamingTV','StreamingMovies','Contract','PaperlessBilling','PaymentMethod','Churn']\n",
    "df = pd.get_dummies(df, columns=categorical_Columns, drop_first=False)"
   ]
  },
  {
   "cell_type": "code",
   "execution_count": 14,
   "id": "83133087-ca93-4627-8c55-cf8d4f22482f",
   "metadata": {},
   "outputs": [
    {
     "name": "stdout",
     "output_type": "stream",
     "text": [
      "   customerID  SeniorCitizen  tenure  MonthlyCharges  TotalCharges  \\\n",
      "0  7590-VHVEG              0       1           29.85         29.85   \n",
      "1  5575-GNVDE              0      34           56.95       1889.50   \n",
      "2  3668-QPYBK              0       2           53.85        108.15   \n",
      "3  7795-CFOCW              0      45           42.30       1840.75   \n",
      "4  9237-HQITU              0       2           70.70        151.65   \n",
      "\n",
      "   gender_Female  gender_Male  Partner_No  Partner_Yes  Dependents_No  ...  \\\n",
      "0           True        False       False         True           True  ...   \n",
      "1          False         True        True        False           True  ...   \n",
      "2          False         True        True        False           True  ...   \n",
      "3          False         True        True        False           True  ...   \n",
      "4           True        False        True        False           True  ...   \n",
      "\n",
      "   Contract_One year  Contract_Two year  PaperlessBilling_No  \\\n",
      "0              False              False                False   \n",
      "1               True              False                 True   \n",
      "2              False              False                False   \n",
      "3               True              False                 True   \n",
      "4              False              False                False   \n",
      "\n",
      "   PaperlessBilling_Yes  PaymentMethod_Bank transfer (automatic)  \\\n",
      "0                  True                                    False   \n",
      "1                 False                                    False   \n",
      "2                  True                                    False   \n",
      "3                 False                                     True   \n",
      "4                  True                                    False   \n",
      "\n",
      "   PaymentMethod_Credit card (automatic)  PaymentMethod_Electronic check  \\\n",
      "0                                  False                            True   \n",
      "1                                  False                           False   \n",
      "2                                  False                           False   \n",
      "3                                  False                           False   \n",
      "4                                  False                            True   \n",
      "\n",
      "   PaymentMethod_Mailed check  Churn_No  Churn_Yes  \n",
      "0                       False      True      False  \n",
      "1                        True      True      False  \n",
      "2                        True     False       True  \n",
      "3                       False      True      False  \n",
      "4                       False     False       True  \n",
      "\n",
      "[5 rows x 48 columns]\n"
     ]
    }
   ],
   "source": [
    "print(df.head(5))"
   ]
  },
  {
   "cell_type": "code",
   "execution_count": 15,
   "id": "67867310-ce0c-4bdc-9853-ba6324f90bb0",
   "metadata": {},
   "outputs": [],
   "source": [
    "df['CustomerIndex'] = df.index\n",
    "\n",
    "# Drop the original 'customerID' column because it didn't get converted to bool\n",
    "df.drop(columns=['customerID'], inplace=True)"
   ]
  },
  {
   "cell_type": "code",
   "execution_count": 16,
   "id": "b04dfc67",
   "metadata": {},
   "outputs": [
    {
     "data": {
      "text/plain": [
       "Churn_Yes                                  1.000000\n",
       "Contract_Month-to-month                    0.405103\n",
       "OnlineSecurity_No                          0.342637\n",
       "TechSupport_No                             0.337281\n",
       "InternetService_Fiber optic                0.308020\n",
       "PaymentMethod_Electronic check             0.301919\n",
       "OnlineBackup_No                            0.268005\n",
       "DeviceProtection_No                        0.252481\n",
       "MonthlyCharges                             0.193356\n",
       "PaperlessBilling_Yes                       0.191825\n",
       "Dependents_No                              0.164221\n",
       "SeniorCitizen                              0.150889\n",
       "Partner_No                                 0.150448\n",
       "StreamingMovies_No                         0.130845\n",
       "StreamingTV_No                             0.128916\n",
       "StreamingTV_Yes                            0.063228\n",
       "StreamingMovies_Yes                        0.061382\n",
       "MultipleLines_Yes                          0.040102\n",
       "PhoneService_Yes                           0.011942\n",
       "CustomerIndex                              0.010286\n",
       "gender_Female                              0.008612\n",
       "gender_Male                               -0.008612\n",
       "MultipleLines_No phone service            -0.011942\n",
       "PhoneService_No                           -0.011942\n",
       "MultipleLines_No                          -0.032569\n",
       "DeviceProtection_Yes                      -0.066160\n",
       "OnlineBackup_Yes                          -0.082255\n",
       "PaymentMethod_Mailed check                -0.091683\n",
       "PaymentMethod_Bank transfer (automatic)   -0.117937\n",
       "InternetService_DSL                       -0.124214\n",
       "PaymentMethod_Credit card (automatic)     -0.134302\n",
       "Partner_Yes                               -0.150448\n",
       "Dependents_Yes                            -0.164221\n",
       "TechSupport_Yes                           -0.164674\n",
       "OnlineSecurity_Yes                        -0.171226\n",
       "Contract_One year                         -0.177820\n",
       "PaperlessBilling_No                       -0.191825\n",
       "TotalCharges                              -0.199428\n",
       "InternetService_No                        -0.227890\n",
       "OnlineSecurity_No internet service        -0.227890\n",
       "StreamingTV_No internet service           -0.227890\n",
       "TechSupport_No internet service           -0.227890\n",
       "DeviceProtection_No internet service      -0.227890\n",
       "OnlineBackup_No internet service          -0.227890\n",
       "StreamingMovies_No internet service       -0.227890\n",
       "Contract_Two year                         -0.302253\n",
       "tenure                                    -0.352229\n",
       "Churn_No                                  -1.000000\n",
       "Name: Churn_Yes, dtype: float64"
      ]
     },
     "execution_count": 16,
     "metadata": {},
     "output_type": "execute_result"
    }
   ],
   "source": [
    "# Checking the correlation of features with the label \n",
    "corr_matrix = df.corr()\n",
    "corr_matrix['Churn_Yes'].sort_values(ascending=False) "
   ]
  },
  {
   "cell_type": "code",
   "execution_count": 17,
   "id": "0dd98379",
   "metadata": {},
   "outputs": [],
   "source": [
    "# Droping the less impactfull columns\n",
    "droping = ['Churn_No','Contract_One year', 'OnlineSecurity_Yes', 'Dependents_Yes','Partner_Yes','PaymentMethod_Credit card (automatic)', 'PaymentMethod_Bank transfer (automatic)', 'PaymentMethod_Mailed check','OnlineBackup_Yes','DeviceProtection_Yes','MultipleLines_No','PhoneService_No','MultipleLines_No phone service', 'gender_Male','gender_Female','CustomerIndex','PhoneService_Yes','MultipleLines_Yes','StreamingMovies_Yes','StreamingTV_Yes','StreamingTV_No','StreamingMovies_No','Partner_No','SeniorCitizen','Dependents_No','PaperlessBilling_Yes','MonthlyCharges','DeviceProtection_No','OnlineBackup_No']\n",
    "df = df.drop(columns=droping, inplace=False)"
   ]
  },
  {
   "cell_type": "code",
   "execution_count": 18,
   "id": "f03ff9d1-369e-458c-8fe9-ab9edad1eb6f",
   "metadata": {},
   "outputs": [
    {
     "name": "stdout",
     "output_type": "stream",
     "text": [
      "<class 'pandas.core.frame.DataFrame'>\n",
      "RangeIndex: 7043 entries, 0 to 7042\n",
      "Data columns (total 19 columns):\n",
      " #   Column                                Non-Null Count  Dtype  \n",
      "---  ------                                --------------  -----  \n",
      " 0   tenure                                7043 non-null   int64  \n",
      " 1   TotalCharges                          7043 non-null   float64\n",
      " 2   InternetService_DSL                   7043 non-null   bool   \n",
      " 3   InternetService_Fiber optic           7043 non-null   bool   \n",
      " 4   InternetService_No                    7043 non-null   bool   \n",
      " 5   OnlineSecurity_No                     7043 non-null   bool   \n",
      " 6   OnlineSecurity_No internet service    7043 non-null   bool   \n",
      " 7   OnlineBackup_No internet service      7043 non-null   bool   \n",
      " 8   DeviceProtection_No internet service  7043 non-null   bool   \n",
      " 9   TechSupport_No                        7043 non-null   bool   \n",
      " 10  TechSupport_No internet service       7043 non-null   bool   \n",
      " 11  TechSupport_Yes                       7043 non-null   bool   \n",
      " 12  StreamingTV_No internet service       7043 non-null   bool   \n",
      " 13  StreamingMovies_No internet service   7043 non-null   bool   \n",
      " 14  Contract_Month-to-month               7043 non-null   bool   \n",
      " 15  Contract_Two year                     7043 non-null   bool   \n",
      " 16  PaperlessBilling_No                   7043 non-null   bool   \n",
      " 17  PaymentMethod_Electronic check        7043 non-null   bool   \n",
      " 18  Churn_Yes                             7043 non-null   bool   \n",
      "dtypes: bool(17), float64(1), int64(1)\n",
      "memory usage: 227.1 KB\n"
     ]
    }
   ],
   "source": [
    "df.info()"
   ]
  },
  {
   "cell_type": "code",
   "execution_count": 19,
   "id": "4e0b71ec",
   "metadata": {},
   "outputs": [],
   "source": [
    "df = df.drop(columns=['TechSupport_Yes','InternetService_DSL' ])"
   ]
  },
  {
   "cell_type": "code",
   "execution_count": 20,
   "id": "b4b471c2",
   "metadata": {},
   "outputs": [
    {
     "data": {
      "text/plain": [
       "Churn_Yes                               1.000000\n",
       "Contract_Month-to-month                 0.405103\n",
       "OnlineSecurity_No                       0.342637\n",
       "TechSupport_No                          0.337281\n",
       "InternetService_Fiber optic             0.308020\n",
       "PaymentMethod_Electronic check          0.301919\n",
       "PaperlessBilling_No                    -0.191825\n",
       "TotalCharges                           -0.199428\n",
       "InternetService_No                     -0.227890\n",
       "OnlineSecurity_No internet service     -0.227890\n",
       "OnlineBackup_No internet service       -0.227890\n",
       "DeviceProtection_No internet service   -0.227890\n",
       "TechSupport_No internet service        -0.227890\n",
       "StreamingTV_No internet service        -0.227890\n",
       "StreamingMovies_No internet service    -0.227890\n",
       "Contract_Two year                      -0.302253\n",
       "tenure                                 -0.352229\n",
       "Name: Churn_Yes, dtype: float64"
      ]
     },
     "execution_count": 20,
     "metadata": {},
     "output_type": "execute_result"
    }
   ],
   "source": [
    "corr_matrix = df.corr()\n",
    "corr_matrix['Churn_Yes'].sort_values(ascending=False)"
   ]
  },
  {
   "cell_type": "code",
   "execution_count": 21,
   "id": "32193a38",
   "metadata": {},
   "outputs": [],
   "source": [
    "# Combining some attributes for better relation with label\n",
    "df['TechSupport_InternetService'] = ((df['InternetService_Fiber optic'].astype(int)/df['InternetService_Fiber optic'].astype(int).max())+(df['PaymentMethod_Electronic check'].astype(int)/df['PaymentMethod_Electronic check'].astype(int).max()))\n",
    "df['Internet_Service'] = (1/((df['InternetService_No'].astype(int)/df['InternetService_No'].astype(int).max())+(df['OnlineSecurity_No internet service'].astype(int)/df['OnlineSecurity_No internet service'].astype(int).max())+(df['OnlineBackup_No internet service'].astype(int)/df['OnlineBackup_No internet service'].astype(int).max())+(df['DeviceProtection_No internet service'].astype(int)/df['DeviceProtection_No internet service'].astype(int).max())+(df['TechSupport_No internet service'].astype(int)/df['TechSupport_No internet service'].astype(int).max())+(df['StreamingTV_No internet service'].astype(int)/df['StreamingTV_No internet service'].astype(int).max())+(df['StreamingMovies_No internet service'].astype(int)/df['StreamingMovies_No internet service'].astype(int).max())))\n"
   ]
  },
  {
   "cell_type": "code",
   "execution_count": 23,
   "id": "18dda78e",
   "metadata": {},
   "outputs": [
    {
     "data": {
      "text/plain": [
       "Churn_Yes                               1.000000\n",
       "Contract_Month-to-month                 0.405103\n",
       "TechSupport_InternetService             0.373115\n",
       "OnlineSecurity_No                       0.342637\n",
       "TechSupport_No                          0.337281\n",
       "InternetService_Fiber optic             0.308020\n",
       "PaymentMethod_Electronic check          0.301919\n",
       "PaperlessBilling_No                    -0.191825\n",
       "TotalCharges                           -0.199428\n",
       "StreamingMovies_No internet service    -0.227890\n",
       "TechSupport_No internet service        -0.227890\n",
       "StreamingTV_No internet service        -0.227890\n",
       "DeviceProtection_No internet service   -0.227890\n",
       "OnlineBackup_No internet service       -0.227890\n",
       "OnlineSecurity_No internet service     -0.227890\n",
       "InternetService_No                     -0.227890\n",
       "Contract_Two year                      -0.302253\n",
       "tenure                                 -0.352229\n",
       "Internet_Service                             NaN\n",
       "Name: Churn_Yes, dtype: float64"
      ]
     },
     "execution_count": 23,
     "metadata": {},
     "output_type": "execute_result"
    }
   ],
   "source": [
    "corr_matrix = df.corr()\n",
    "corr_matrix['Churn_Yes'].sort_values(ascending=False)"
   ]
  },
  {
   "cell_type": "code",
   "execution_count": 24,
   "id": "516234fa",
   "metadata": {},
   "outputs": [
    {
     "data": {
      "text/html": [
       "<div>\n",
       "<style scoped>\n",
       "    .dataframe tbody tr th:only-of-type {\n",
       "        vertical-align: middle;\n",
       "    }\n",
       "\n",
       "    .dataframe tbody tr th {\n",
       "        vertical-align: top;\n",
       "    }\n",
       "\n",
       "    .dataframe thead th {\n",
       "        text-align: right;\n",
       "    }\n",
       "</style>\n",
       "<table border=\"1\" class=\"dataframe\">\n",
       "  <thead>\n",
       "    <tr style=\"text-align: right;\">\n",
       "      <th></th>\n",
       "      <th>Contract_Month-to-month</th>\n",
       "      <th>FiberOptic_PaymentMeth</th>\n",
       "      <th>OnlineSecurity_No</th>\n",
       "      <th>TechSupport_No</th>\n",
       "      <th>tenure</th>\n",
       "      <th>Contract_Two year</th>\n",
       "      <th>Churn_Yes</th>\n",
       "    </tr>\n",
       "  </thead>\n",
       "  <tbody>\n",
       "    <tr>\n",
       "      <th>0</th>\n",
       "      <td>True</td>\n",
       "      <td>1.0</td>\n",
       "      <td>True</td>\n",
       "      <td>True</td>\n",
       "      <td>1</td>\n",
       "      <td>False</td>\n",
       "      <td>False</td>\n",
       "    </tr>\n",
       "    <tr>\n",
       "      <th>1</th>\n",
       "      <td>False</td>\n",
       "      <td>0.0</td>\n",
       "      <td>False</td>\n",
       "      <td>True</td>\n",
       "      <td>34</td>\n",
       "      <td>False</td>\n",
       "      <td>False</td>\n",
       "    </tr>\n",
       "    <tr>\n",
       "      <th>2</th>\n",
       "      <td>True</td>\n",
       "      <td>0.0</td>\n",
       "      <td>False</td>\n",
       "      <td>True</td>\n",
       "      <td>2</td>\n",
       "      <td>False</td>\n",
       "      <td>True</td>\n",
       "    </tr>\n",
       "    <tr>\n",
       "      <th>3</th>\n",
       "      <td>False</td>\n",
       "      <td>0.0</td>\n",
       "      <td>False</td>\n",
       "      <td>False</td>\n",
       "      <td>45</td>\n",
       "      <td>False</td>\n",
       "      <td>False</td>\n",
       "    </tr>\n",
       "    <tr>\n",
       "      <th>4</th>\n",
       "      <td>True</td>\n",
       "      <td>2.0</td>\n",
       "      <td>True</td>\n",
       "      <td>True</td>\n",
       "      <td>2</td>\n",
       "      <td>False</td>\n",
       "      <td>True</td>\n",
       "    </tr>\n",
       "  </tbody>\n",
       "</table>\n",
       "</div>"
      ],
      "text/plain": [
       "   Contract_Month-to-month  FiberOptic_PaymentMeth  OnlineSecurity_No  \\\n",
       "0                     True                     1.0               True   \n",
       "1                    False                     0.0              False   \n",
       "2                     True                     0.0              False   \n",
       "3                    False                     0.0              False   \n",
       "4                     True                     2.0               True   \n",
       "\n",
       "   TechSupport_No  tenure  Contract_Two year  Churn_Yes  \n",
       "0            True       1              False      False  \n",
       "1            True      34              False      False  \n",
       "2            True       2              False       True  \n",
       "3           False      45              False      False  \n",
       "4            True       2              False       True  "
      ]
     },
     "execution_count": 24,
     "metadata": {},
     "output_type": "execute_result"
    }
   ],
   "source": [
    "# Keeping only the most impactfull features \n",
    "keep = ['Contract_Month-to-month','TechSupport_InternetService','OnlineSecurity_No','TechSupport_No','tenure','Contract_Two year', 'Churn_Yes']\n",
    "df = df[keep]\n",
    "df = df.rename(columns={'TechSupport_InternetService':'FiberOptic_PaymentMeth'})\n",
    "df.head()"
   ]
  },
  {
   "cell_type": "code",
   "execution_count": 25,
   "id": "5059fe35",
   "metadata": {},
   "outputs": [
    {
     "data": {
      "text/plain": [
       "Contract_Month-to-month    0\n",
       "FiberOptic_PaymentMeth     0\n",
       "OnlineSecurity_No          0\n",
       "TechSupport_No             0\n",
       "tenure                     0\n",
       "Contract_Two year          0\n",
       "Churn_Yes                  0\n",
       "dtype: int64"
      ]
     },
     "execution_count": 25,
     "metadata": {},
     "output_type": "execute_result"
    }
   ],
   "source": [
    "# Checking for null values \n",
    "df.isnull().sum()"
   ]
  },
  {
   "cell_type": "code",
   "execution_count": 26,
   "id": "58748fb1",
   "metadata": {},
   "outputs": [],
   "source": [
    "# Standardizing Data\n",
    "from sklearn.preprocessing import StandardScaler\n",
    "scalar = StandardScaler()\n",
    "scaled_data = scalar.fit_transform(df)\n",
    "df = pd.DataFrame(scaled_data, columns=df.columns)"
   ]
  },
  {
   "cell_type": "code",
   "execution_count": 29,
   "id": "e1b2db1b",
   "metadata": {},
   "outputs": [],
   "source": [
    "# Shuffle splitting the data\n",
    "x = df.drop('Churn_Yes', axis=1)\n",
    "y = df['Churn_Yes']\n",
    "from sklearn.model_selection import StratifiedShuffleSplit\n",
    "split = StratifiedShuffleSplit(n_splits=1, test_size=0.2, random_state=42)\n",
    "for train_index, test_index in split.split(x, y):\n",
    "    shuf_train = df.loc[train_index]\n",
    "    shuf_test = df.loc[test_index]"
   ]
  },
  {
   "cell_type": "code",
   "execution_count": 32,
   "id": "bbc97c9a",
   "metadata": {},
   "outputs": [],
   "source": [
    "# Splitting the data in train and test sets \n",
    "X_train = shuf_train.drop('Churn_Yes', axis=1)\n",
    "Y_train = shuf_test['Churn_Yes']\n",
    "X_test = shuf_train.drop('Churn_Yes', axis=1)\n",
    "Y_test = shuf_test['Churn_Yes']"
   ]
  },
  {
   "cell_type": "code",
   "execution_count": 22,
   "id": "cbe2f14f-83f0-40ba-90f8-09ecda07586a",
   "metadata": {},
   "outputs": [
    {
     "name": "stdout",
     "output_type": "stream",
     "text": [
      "Logistic Regression\n",
      "              precision    recall  f1-score   support\n",
      "\n",
      "       False       0.86      0.90      0.88      1036\n",
      "        True       0.69      0.59      0.64       373\n",
      "\n",
      "    accuracy                           0.82      1409\n",
      "   macro avg       0.77      0.75      0.76      1409\n",
      "weighted avg       0.81      0.82      0.82      1409\n",
      "\n"
     ]
    }
   ],
   "source": [
    "from sklearn.linear_model import LogisticRegression\n",
    "from sklearn.metrics import classification_report\n",
    "\n",
    "# Initialize the model\n",
    "model1 = LogisticRegression()\n",
    "\n",
    "# Train the model on the training data\n",
    "model1.fit(X_train, Y_train)\n",
    "\n",
    "# Make predictions on the testing data\n",
    "y_pred = model1.predict(X_test)\n",
    "\n",
    "# Evaluate the model's performance\n",
    "print(\"Logistic Regression\")\n",
    "print(classification_report(Y_test, y_pred))\n"
   ]
  },
  {
   "cell_type": "code",
   "execution_count": 23,
   "id": "5ad6c769-dafa-4993-a24b-723860daee12",
   "metadata": {},
   "outputs": [
    {
     "name": "stdout",
     "output_type": "stream",
     "text": [
      "Decicion Tree\n",
      "              precision    recall  f1-score   support\n",
      "\n",
      "       False       0.82      0.80      0.81      1036\n",
      "        True       0.48      0.50      0.49       373\n",
      "\n",
      "    accuracy                           0.72      1409\n",
      "   macro avg       0.65      0.65      0.65      1409\n",
      "weighted avg       0.73      0.72      0.73      1409\n",
      "\n"
     ]
    }
   ],
   "source": [
    "\n",
    "from sklearn.tree import DecisionTreeClassifier\n",
    "from sklearn.metrics import classification_report\n",
    "\n",
    "# Initialize the model\n",
    "model2 = DecisionTreeClassifier()\n",
    "\n",
    "# Train the model on the training data\n",
    "model2.fit(X_train, Y_train)\n",
    "\n",
    "# Make predictions on the testing data\n",
    "y_pred = model2.predict(X_test)\n",
    "\n",
    "# Evaluate the model's performance\n",
    "print(\"Decicion Tree\")\n",
    "print(classification_report(Y_test, y_pred))"
   ]
  },
  {
   "cell_type": "code",
   "execution_count": 24,
   "id": "945aaf5d-5195-465a-8056-d3b56be209f8",
   "metadata": {},
   "outputs": [
    {
     "name": "stdout",
     "output_type": "stream",
     "text": [
      "Random Forest\n",
      "              precision    recall  f1-score   support\n",
      "\n",
      "       False       0.83      0.91      0.87      1036\n",
      "        True       0.67      0.50      0.57       373\n",
      "\n",
      "    accuracy                           0.80      1409\n",
      "   macro avg       0.75      0.70      0.72      1409\n",
      "weighted avg       0.79      0.80      0.79      1409\n",
      "\n"
     ]
    }
   ],
   "source": [
    "\n",
    "from sklearn.ensemble import RandomForestClassifier\n",
    "\n",
    "# Initialize the model\n",
    "model = RandomForestClassifier()\n",
    "\n",
    "# Train the model on the training data\n",
    "model.fit(X_train, Y_train)\n",
    "\n",
    "from sklearn.metrics import classification_report\n",
    "\n",
    "# Make predictions on the testing data\n",
    "y_pred = model.predict(X_test)\n",
    "\n",
    "# Evaluate the model's performance\n",
    "print(\"Random Forest\")\n",
    "print(classification_report(Y_test, y_pred))"
   ]
  },
  {
   "cell_type": "code",
   "execution_count": 25,
   "id": "bfc4dcd2",
   "metadata": {},
   "outputs": [
    {
     "name": "stdout",
     "output_type": "stream",
     "text": [
      "Support Vector Machine\n",
      "              precision    recall  f1-score   support\n",
      "\n",
      "       False       0.84      0.92      0.88      1036\n",
      "        True       0.69      0.52      0.59       373\n",
      "\n",
      "    accuracy                           0.81      1409\n",
      "   macro avg       0.77      0.72      0.74      1409\n",
      "weighted avg       0.80      0.81      0.80      1409\n",
      "\n"
     ]
    }
   ],
   "source": [
    "\n",
    "from sklearn.svm import SVC\n",
    "\n",
    "# Initialize the model\n",
    "model = SVC()\n",
    "\n",
    "# Train the model on the training data\n",
    "model.fit(X_train, Y_train)\n",
    "\n",
    "from sklearn.metrics import classification_report\n",
    "\n",
    "# Make predictions on the testing data\n",
    "y_pred = model.predict(X_test)\n",
    "\n",
    "# Evaluate the model's performance\n",
    "print(\"Support Vector Machine\")\n",
    "print(classification_report(Y_test, y_pred))"
   ]
  },
  {
   "cell_type": "code",
   "execution_count": 26,
   "id": "a437dba3",
   "metadata": {},
   "outputs": [
    {
     "name": "stdout",
     "output_type": "stream",
     "text": [
      "Gradient Boost\n",
      "              precision    recall  f1-score   support\n",
      "\n",
      "       False       0.85      0.90      0.87      1036\n",
      "        True       0.67      0.55      0.60       373\n",
      "\n",
      "    accuracy                           0.81      1409\n",
      "   macro avg       0.76      0.72      0.74      1409\n",
      "weighted avg       0.80      0.81      0.80      1409\n",
      "\n"
     ]
    }
   ],
   "source": [
    "\n",
    "from sklearn.ensemble import GradientBoostingClassifier\n",
    "\n",
    "# Initialize the model\n",
    "model = GradientBoostingClassifier()\n",
    "\n",
    "# Train the model on the training data\n",
    "model.fit(X_train, Y_train)\n",
    "\n",
    "from sklearn.metrics import classification_report\n",
    "\n",
    "# Make predictions on the testing data\n",
    "y_pred = model.predict(X_test)\n",
    "\n",
    "# Evaluate the model's performance\n",
    "print(\"Gradient Boost\")\n",
    "print(classification_report(Y_test, y_pred))"
   ]
  },
  {
   "cell_type": "code",
   "execution_count": 27,
   "id": "3b42345a",
   "metadata": {},
   "outputs": [
    {
     "name": "stdout",
     "output_type": "stream",
     "text": [
      "KNN\n",
      "              precision    recall  f1-score   support\n",
      "\n",
      "       False       0.83      0.85      0.84      1036\n",
      "        True       0.56      0.52      0.54       373\n",
      "\n",
      "    accuracy                           0.77      1409\n",
      "   macro avg       0.70      0.69      0.69      1409\n",
      "weighted avg       0.76      0.77      0.76      1409\n",
      "\n"
     ]
    }
   ],
   "source": [
    "\n",
    "from sklearn.neighbors import KNeighborsClassifier\n",
    "\n",
    "# Initialize the model\n",
    "model = KNeighborsClassifier()\n",
    "\n",
    "# Train the model on the training data\n",
    "model.fit(X_train, Y_train)\n",
    "\n",
    "from sklearn.metrics import classification_report\n",
    "\n",
    "# Make predictions on the testing data\n",
    "y_pred = model.predict(X_test)\n",
    "\n",
    "# Evaluate the model's performance\n",
    "print(\"KNN\")\n",
    "print(classification_report(Y_test, y_pred))"
   ]
  },
  {
   "cell_type": "code",
   "execution_count": 28,
   "id": "ce7acd50",
   "metadata": {},
   "outputs": [],
   "source": [
    "# Saving the model for further use \n",
    "import pickle\n",
    "\n",
    "with open ('model.pkl','wb') as f:\n",
    "    pickle.dump(model1,f)"
   ]
  }
 ],
 "metadata": {
  "kernelspec": {
   "display_name": "Python 3 (ipykernel)",
   "language": "python",
   "name": "python3"
  },
  "language_info": {
   "codemirror_mode": {
    "name": "ipython",
    "version": 3
   },
   "file_extension": ".py",
   "mimetype": "text/x-python",
   "name": "python",
   "nbconvert_exporter": "python",
   "pygments_lexer": "ipython3",
   "version": "3.12.2"
  }
 },
 "nbformat": 4,
 "nbformat_minor": 5
}
